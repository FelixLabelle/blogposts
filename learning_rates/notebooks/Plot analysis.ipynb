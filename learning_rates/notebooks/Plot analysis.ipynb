{
 "cells": [
  {
   "cell_type": "markdown",
   "metadata": {
    "heading_collapsed": true
   },
   "source": [
    "## Imports"
   ]
  },
  {
   "cell_type": "code",
   "execution_count": null,
   "metadata": {
    "hidden": true
   },
   "outputs": [],
   "source": [
    "from tqdm import tqdm_notebook\n",
    "import pickle\n",
    "import os\n",
    "import numpy as np\n",
    "import pandas as pd"
   ]
  },
  {
   "cell_type": "code",
   "execution_count": null,
   "metadata": {
    "hidden": true
   },
   "outputs": [],
   "source": [
    "import plotly.plotly as py\n",
    "import plotly.tools as tools\n",
    "import plotly.figure_factory as ff\n",
    "import plotly.graph_objs as go"
   ]
  },
  {
   "cell_type": "markdown",
   "metadata": {
    "heading_collapsed": true
   },
   "source": [
    "## Config"
   ]
  },
  {
   "cell_type": "code",
   "execution_count": null,
   "metadata": {
    "hidden": true
   },
   "outputs": [],
   "source": [
    "tools.set_credentials_file(username='tdehaene', api_key='IM7S3UeptJgLHAUbLskn')"
   ]
  },
  {
   "cell_type": "code",
   "execution_count": null,
   "metadata": {
    "hidden": true
   },
   "outputs": [],
   "source": [
    "mapping_classes = {0:'daisy', 1:'dandelion', 2:'rose', 3:'sunflower', 4:'tulip'}"
   ]
  },
  {
   "cell_type": "markdown",
   "metadata": {
    "heading_collapsed": true,
    "hidden": true
   },
   "source": [
    "### Plot dataset sizes"
   ]
  },
  {
   "cell_type": "code",
   "execution_count": null,
   "metadata": {
    "hidden": true
   },
   "outputs": [],
   "source": [
    "train_size = sorted([(1, 854), (4, 797), (2, 624), (0, 597), (3, 584)], key=lambda x: x[0])\n",
    "valid_size = sorted([(1, 198), (4, 186), (0, 171), (2, 160), (3, 150)], key=lambda x: x[0])"
   ]
  },
  {
   "cell_type": "code",
   "execution_count": null,
   "metadata": {
    "hidden": true
   },
   "outputs": [],
   "source": [
    "trace1 = go.Bar(\n",
    "    x=list(mapping_classes.values()),\n",
    "    y=[x[1] for x in train_size],\n",
    "    name='Training set'\n",
    ")\n",
    "trace2 = go.Bar(\n",
    "    x=list(mapping_classes.values()),\n",
    "    y=[x[1] for x in valid_size],\n",
    "    name='Validation set'\n",
    ")\n",
    "\n",
    "data = [trace1, trace2]\n",
    "layout = go.Layout(\n",
    "    barmode='stack'\n",
    ")\n",
    "\n",
    "fig = go.Figure(data=data, layout=layout)\n",
    "py.iplot(fig, filename='Training and validation size')"
   ]
  },
  {
   "cell_type": "markdown",
   "metadata": {
    "heading_collapsed": true
   },
   "source": [
    "## Results visualisation"
   ]
  },
  {
   "cell_type": "markdown",
   "metadata": {
    "hidden": true
   },
   "source": [
    "### Learning rate experiment 1"
   ]
  },
  {
   "cell_type": "code",
   "execution_count": null,
   "metadata": {
    "hidden": true
   },
   "outputs": [],
   "source": [
    "with open(\"../logs/learning_rates/flowers_lr_find_loss.pickle\",\"rb\") as file:\n",
    "    lr_find_loss = pickle.load(file)\n",
    "    \n",
    "with open(\"../logs/learning_rates/flowers_lr_find_lr.pickle\",\"rb\") as file:\n",
    "    lr_find_lr = pickle.load(file)\n",
    " \n",
    "traces = []\n",
    "\n",
    "layout = go.Layout(\n",
    "    xaxis=dict(\n",
    "        showgrid=True,\n",
    "        showline=False,\n",
    "        type='log',\n",
    "        showticklabels=True,\n",
    "        tickcolor='rgb(127,127,127)',\n",
    "        ticks='outside',\n",
    "        zeroline=False,\n",
    "        title = \"learning rate [log]\"\n",
    "    ),\n",
    "    yaxis=dict(\n",
    "        showgrid=True,\n",
    "        showline=False,\n",
    "        showticklabels=True,\n",
    "        tickcolor='rgb(127,127,127)',\n",
    "        ticks='outside',\n",
    "        zeroline=False,\n",
    "        title = \"loss\"\n",
    "    ),\n",
    ")\n",
    "\n",
    "traces.append(go.Scatter(\n",
    "        x=lr_find_lr,\n",
    "        y=lr_find_loss,\n",
    "        showlegend=False,\n",
    "        name=\"loss\",\n",
    "    ))\n",
    "\n",
    "fig = go.Figure(data=traces, layout=layout)\n",
    "py.iplot(fig, filename='td_medium_lr_loss_vanilla')"
   ]
  },
  {
   "cell_type": "code",
   "execution_count": null,
   "metadata": {
    "hidden": true
   },
   "outputs": [],
   "source": [
    "with open(\"../logs/learning_rates/flowers_lr_find_lr.pickle\",\"rb\") as file:\n",
    "    lr_find_lr = pickle.load(file)\n",
    " \n",
    "traces = []\n",
    "\n",
    "layout = go.Layout(\n",
    "    xaxis=dict(\n",
    "        showgrid=True,\n",
    "        showline=False,\n",
    "        showticklabels=True,\n",
    "        tickcolor='rgb(127,127,127)',\n",
    "        ticks='outside',\n",
    "        zeroline=False,\n",
    "        title = \"step\"\n",
    "    ),\n",
    "    yaxis=dict(\n",
    "        showgrid=True,\n",
    "        showline=False,\n",
    "        showticklabels=True,\n",
    "        tickcolor='rgb(127,127,127)',\n",
    "        ticks='outside',\n",
    "        zeroline=False,\n",
    "        title = \"learning rate\"\n",
    "    ),\n",
    ")\n",
    "\n",
    "traces.append(go.Scatter(\n",
    "        x=list(range(len(lr_find_lr))),\n",
    "        y=lr_find_lr,\n",
    "        showlegend=False,\n",
    "        name=\"loss\",\n",
    "    ))\n",
    "\n",
    "fig = go.Figure(data=traces, layout=layout)\n",
    "py.iplot(fig, filename='td_medium_lr_step_vanilla')"
   ]
  },
  {
   "cell_type": "markdown",
   "metadata": {
    "hidden": true
   },
   "source": [
    "### Accuracy experiment 1"
   ]
  },
  {
   "cell_type": "code",
   "execution_count": null,
   "metadata": {
    "hidden": true
   },
   "outputs": [],
   "source": [
    "loss_plots = {}\n",
    "for i, file in enumerate(os.listdir(\"../logs/flowers_vanilla/\")):\n",
    "    opt = file.split(\"_\")[1]\n",
    "    \n",
    "    plots = pickle.load(open(os.path.join(\"../logs\",\"flowers_vanilla\",file),\"rb\"))\n",
    "    \n",
    "    if opt == \"adam\" and not \"adam\" in loss_plots:\n",
    "        plots = [{\n",
    "            \"acc\":x['acc']/100.0,\n",
    "            \"loss\":x[\"loss\"],\n",
    "            \"val_loss\":x[\"val_loss\"],\n",
    "            \"val_acc\":x[\"val_acc\"]\n",
    "        } for x in plots]\n",
    "        \n",
    "        plots = plots[:150]\n",
    "\n",
    "    \n",
    "    if opt in loss_plots:\n",
    "        loss_plots[opt].append(plots)\n",
    "    else:\n",
    "        loss_plots[opt] = [plots]\n"
   ]
  },
  {
   "cell_type": "markdown",
   "metadata": {
    "heading_collapsed": true,
    "hidden": true
   },
   "source": [
    "#### Training accuracy"
   ]
  },
  {
   "cell_type": "code",
   "execution_count": null,
   "metadata": {
    "hidden": true
   },
   "outputs": [],
   "source": [
    "traces = []\n",
    "metric = \"acc\"\n",
    "for key,val in loss_plots.items():\n",
    "    \n",
    "    x = list(np.arange(1,len(val[0])+1))\n",
    "    x_rev = x[::-1]\n",
    "        \n",
    "    metric_values = np.asarray([[epoch[metric] for epoch in run] for run in val])\n",
    "    \n",
    "    y_upper = list(np.amax(metric_values,axis=0))\n",
    "    y_lower = np.amin(metric_values,axis=0)\n",
    "    y_lower = list(y_lower[::-1])\n",
    "    \n",
    "    traces.append(go.Scatter(\n",
    "        x=x+x_rev,\n",
    "        y=y_upper+y_lower,\n",
    "        fill='tozerox',\n",
    "        #fillcolor='rgba(0,100,80,0.2)',\n",
    "        #line=dict(color='rgba(255,255,255,0)'),\n",
    "        showlegend=True,\n",
    "        name=key,\n",
    "    ))"
   ]
  },
  {
   "cell_type": "code",
   "execution_count": null,
   "metadata": {
    "hidden": true
   },
   "outputs": [],
   "source": [
    "layout = go.Layout(\n",
    "    paper_bgcolor='rgb(255,255,255)',\n",
    "    plot_bgcolor='rgb(229,229,229)',\n",
    "    xaxis=dict(\n",
    "        gridcolor='rgb(255,255,255)',\n",
    "        range=[1,150],\n",
    "        showgrid=True,\n",
    "        showline=False,\n",
    "        showticklabels=True,\n",
    "        tickcolor='rgb(127,127,127)',\n",
    "        ticks='outside',\n",
    "        zeroline=False,\n",
    "        title = \"epoch\"\n",
    "    ),\n",
    "    yaxis=dict(\n",
    "        gridcolor='rgb(255,255,255)',\n",
    "        showgrid=True,\n",
    "        showline=False,\n",
    "        showticklabels=True,\n",
    "        tickcolor='rgb(127,127,127)',\n",
    "        ticks='outside',\n",
    "        zeroline=False,\n",
    "        range=[0, 1],\n",
    "        title = \"accuracy\"\n",
    "    ),\n",
    ")"
   ]
  },
  {
   "cell_type": "code",
   "execution_count": null,
   "metadata": {
    "hidden": true
   },
   "outputs": [],
   "source": [
    "fig = go.Figure(data=traces, layout=layout)\n",
    "py.iplot(fig, filename='td_medium_lr_1_vanilla')"
   ]
  },
  {
   "cell_type": "markdown",
   "metadata": {
    "heading_collapsed": true,
    "hidden": true
   },
   "source": [
    "#### Validation accuraccy"
   ]
  },
  {
   "cell_type": "code",
   "execution_count": null,
   "metadata": {
    "hidden": true
   },
   "outputs": [],
   "source": [
    "traces = []\n",
    "metric = \"val_acc\"\n",
    "for key,val in loss_plots.items():\n",
    "    \n",
    "    x = list(np.arange(1,len(val[0])+1))\n",
    "    x_rev = x[::-1]\n",
    "        \n",
    "    metric_values = np.asarray([[epoch[metric] for epoch in run] for run in val])\n",
    "    \n",
    "    y_upper = list(np.amax(metric_values,axis=0))\n",
    "    y_lower = np.amin(metric_values,axis=0)\n",
    "    y_lower = list(y_lower[::-1])\n",
    "    \n",
    "    traces.append(go.Scatter(\n",
    "        x=x+x_rev,\n",
    "        y=y_upper+y_lower,\n",
    "        fill='tozerox',\n",
    "        #fillcolor='rgba(0,100,80,0.2)',\n",
    "        #line=dict(color='rgba(255,255,255,0)'),\n",
    "        showlegend=True,\n",
    "        name=key,\n",
    "    ))"
   ]
  },
  {
   "cell_type": "code",
   "execution_count": null,
   "metadata": {
    "hidden": true
   },
   "outputs": [],
   "source": [
    "layout = go.Layout(\n",
    "    paper_bgcolor='rgb(255,255,255)',\n",
    "    plot_bgcolor='rgb(229,229,229)',\n",
    "    xaxis=dict(\n",
    "        gridcolor='rgb(255,255,255)',\n",
    "        range=[1,150],\n",
    "        showgrid=True,\n",
    "        showline=False,\n",
    "        showticklabels=True,\n",
    "        tickcolor='rgb(127,127,127)',\n",
    "        ticks='outside',\n",
    "        zeroline=False,\n",
    "        title = \"epoch\"\n",
    "    ),\n",
    "    yaxis=dict(\n",
    "        gridcolor='rgb(255,255,255)',\n",
    "        showgrid=True,\n",
    "        showline=False,\n",
    "        showticklabels=True,\n",
    "        tickcolor='rgb(127,127,127)',\n",
    "        ticks='outside',\n",
    "        zeroline=False,\n",
    "        range=[0, 1],\n",
    "        title = \"accuracy\"\n",
    "    ),\n",
    ")"
   ]
  },
  {
   "cell_type": "code",
   "execution_count": null,
   "metadata": {
    "hidden": true
   },
   "outputs": [],
   "source": [
    "fig = go.Figure(data=traces, layout=layout)\n",
    "py.iplot(fig, filename='td_medium_lr_1_vanilla_validation')"
   ]
  },
  {
   "cell_type": "markdown",
   "metadata": {
    "hidden": true
   },
   "source": [
    "### Accuracy experiment 2"
   ]
  },
  {
   "cell_type": "code",
   "execution_count": null,
   "metadata": {
    "hidden": true
   },
   "outputs": [],
   "source": [
    "loss_plots = {}\n",
    "for file in os.listdir(\"../logs/flowers_pretrained/\"):\n",
    "    opt = file.split(\"_\")[2]\n",
    "    \n",
    "    if opt in loss_plots:\n",
    "        loss_plots[opt].append(pickle.load(open(os.path.join(\"../logs\",\"flowers_pretrained\",file),\"rb\")))\n",
    "    else:\n",
    "        loss_plots[opt] = [pickle.load(open(os.path.join(\"../logs\",\"flowers_pretrained\",file),\"rb\"))]\n"
   ]
  },
  {
   "cell_type": "markdown",
   "metadata": {
    "hidden": true
   },
   "source": [
    "#### Training accuracy"
   ]
  },
  {
   "cell_type": "code",
   "execution_count": null,
   "metadata": {
    "hidden": true
   },
   "outputs": [],
   "source": [
    "traces = []\n",
    "metric = \"acc_train\"\n",
    "for key,val in loss_plots.items():\n",
    "    \n",
    "    x = list(np.arange(1,len(val[0])+1))\n",
    "    x_rev = x[::-1]\n",
    "        \n",
    "    metric_values = np.asarray([[epoch[metric] for epoch in run] for run in val])\n",
    "    \n",
    "    y_upper = list(np.amax(metric_values,axis=0))\n",
    "    y_lower = np.amin(metric_values,axis=0)\n",
    "    y_lower = list(y_lower[::-1])\n",
    "    \n",
    "    traces.append(go.Scatter(\n",
    "        x=x+x_rev,\n",
    "        y=y_upper+y_lower,\n",
    "        fill='tozerox',\n",
    "        #fillcolor='rgba(0,100,80,0.2)',\n",
    "        #line=dict(color='rgba(255,255,255,0)'),\n",
    "        showlegend=True,\n",
    "        name=key,\n",
    "        \n",
    "    ))"
   ]
  },
  {
   "cell_type": "code",
   "execution_count": null,
   "metadata": {
    "hidden": true
   },
   "outputs": [],
   "source": [
    "layout = go.Layout(\n",
    "    paper_bgcolor='rgb(255,255,255)',\n",
    "    plot_bgcolor='rgb(229,229,229)',\n",
    "    xaxis=dict(\n",
    "        gridcolor='rgb(255,255,255)',\n",
    "        range=[1,100],\n",
    "        showgrid=True,\n",
    "        showline=False,\n",
    "        showticklabels=True,\n",
    "        tickcolor='rgb(127,127,127)',\n",
    "        ticks='outside',\n",
    "        zeroline=False,\n",
    "        title = \"epoch\"\n",
    "    ),\n",
    "    yaxis=dict(\n",
    "        gridcolor='rgb(255,255,255)',\n",
    "        showgrid=True,\n",
    "        showline=False,\n",
    "        showticklabels=True,\n",
    "        tickcolor='rgb(127,127,127)',\n",
    "        ticks='outside',\n",
    "        zeroline=False,\n",
    "        range=[0, 1],\n",
    "        title = \"accuracy\"\n",
    "    ),\n",
    ")"
   ]
  },
  {
   "cell_type": "code",
   "execution_count": null,
   "metadata": {
    "hidden": true
   },
   "outputs": [],
   "source": [
    "fig = go.Figure(data=traces, layout=layout)\n",
    "py.iplot(fig, filename='td_medium_lr_1_pretrained')"
   ]
  },
  {
   "cell_type": "markdown",
   "metadata": {
    "collapsed": true,
    "hidden": true
   },
   "source": [
    "#### Validation accuracy"
   ]
  },
  {
   "cell_type": "code",
   "execution_count": null,
   "metadata": {
    "hidden": true
   },
   "outputs": [],
   "source": [
    "traces = []\n",
    "metric = \"acc_val\"\n",
    "for key,val in loss_plots.items():\n",
    "    \n",
    "    x = list(np.arange(1,len(val[0])+1))\n",
    "    x_rev = x[::-1]\n",
    "        \n",
    "    metric_values = np.asarray([[epoch[metric] for epoch in run] for run in val])\n",
    "    \n",
    "    y_upper = list(np.amax(metric_values,axis=0))\n",
    "    y_lower = np.amin(metric_values,axis=0)\n",
    "    y_lower = list(y_lower[::-1])\n",
    "    \n",
    "    traces.append(go.Scatter(\n",
    "        x=x+x_rev,\n",
    "        y=y_upper+y_lower,\n",
    "        fill='tozerox',\n",
    "        #fillcolor='rgba(0,100,80,0.2)',\n",
    "        #line=dict(color='rgba(255,255,255,0)'),\n",
    "        showlegend=True,\n",
    "        name=key,\n",
    "        \n",
    "    ))"
   ]
  },
  {
   "cell_type": "code",
   "execution_count": null,
   "metadata": {
    "hidden": true
   },
   "outputs": [],
   "source": [
    "layout = go.Layout(\n",
    "    paper_bgcolor='rgb(255,255,255)',\n",
    "    plot_bgcolor='rgb(229,229,229)',\n",
    "    xaxis=dict(\n",
    "        gridcolor='rgb(255,255,255)',\n",
    "        range=[1,100],\n",
    "        showgrid=True,\n",
    "        showline=False,\n",
    "        showticklabels=True,\n",
    "        tickcolor='rgb(127,127,127)',\n",
    "        ticks='outside',\n",
    "        zeroline=False,\n",
    "        title = \"epoch\"\n",
    "    ),\n",
    "    yaxis=dict(\n",
    "        gridcolor='rgb(255,255,255)',\n",
    "        showgrid=True,\n",
    "        showline=False,\n",
    "        showticklabels=True,\n",
    "        tickcolor='rgb(127,127,127)',\n",
    "        ticks='outside',\n",
    "        zeroline=False,\n",
    "        range=[0, 1],\n",
    "        title = \"accuracy\"\n",
    "    ),\n",
    ")"
   ]
  },
  {
   "cell_type": "code",
   "execution_count": null,
   "metadata": {
    "hidden": true
   },
   "outputs": [],
   "source": [
    "fig = go.Figure(data=traces, layout=layout)\n",
    "py.iplot(fig, filename='td_medium_lr_1_pretrained_validation')"
   ]
  },
  {
   "cell_type": "code",
   "execution_count": null,
   "metadata": {
    "hidden": true
   },
   "outputs": [],
   "source": []
  }
 ],
 "metadata": {
  "kernelspec": {
   "display_name": "Python 3",
   "language": "python",
   "name": "python3"
  },
  "language_info": {
   "codemirror_mode": {
    "name": "ipython",
    "version": 3
   },
   "file_extension": ".py",
   "mimetype": "text/x-python",
   "name": "python",
   "nbconvert_exporter": "python",
   "pygments_lexer": "ipython3",
   "version": "3.6.5"
  }
 },
 "nbformat": 4,
 "nbformat_minor": 2
}
